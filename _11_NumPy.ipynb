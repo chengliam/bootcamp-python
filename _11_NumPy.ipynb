{
 "cells": [
  {
   "cell_type": "code",
   "execution_count": 16,
   "metadata": {},
   "outputs": [
    {
     "name": "stdout",
     "output_type": "stream",
     "text": [
      "[1 2 3]\n",
      "<class 'numpy.ndarray'>\n",
      "[[ 1  2]\n",
      " [ 2  7]\n",
      " [ 9 10]]\n",
      "(3, 2)\n",
      "[[1, 2], [2, 7], [9, 10]]\n",
      "[2 3 4]\n",
      "[1 4 9]\n",
      "[2 4 6]\n",
      "[1, 2, 3, 1, 2, 3]\n"
     ]
    }
   ],
   "source": [
    "import numpy as np\n",
    "\n",
    "arr = np.array([1, 2, 3])\n",
    "print(arr)\n",
    "print(type(arr))\n",
    "\n",
    "arr2d = np.array([[1, 2], [2, 7], [9, 10]])\n",
    "print(arr2d)\n",
    "print(arr2d.shape)\n",
    "\n",
    "# Normal Python\n",
    "list_of_list = [[1, 2], [2, 7], [9, 10]]\n",
    "print(list_of_list)\n",
    "\n",
    "print(arr + 1) # [2 3 4]\n",
    "print(arr ** 2) # [1 4 9]\n",
    "print(arr * 2) # [2 4 6]\n",
    "\n",
    "list1 = [1, 2, 3]\n",
    "print(list1 * 2) # [1, 2, 3, 1, 2, 3]\n"
   ]
  },
  {
   "cell_type": "code",
   "execution_count": 19,
   "metadata": {},
   "outputs": [
    {
     "name": "stdout",
     "output_type": "stream",
     "text": [
      "48.5\n",
      "44.0\n",
      "6\n",
      "100\n",
      "42.10403781111736\n",
      "[[100   8]\n",
      " [  6  80]]\n",
      "4\n"
     ]
    }
   ],
   "source": [
    "arr3 = np.array([100, 8, 6, 80])\n",
    "print(np.mean(arr3)) # 48.5\n",
    "print(np.median(arr3)) # 44.0\n",
    "print(np.min(arr3)) # 6\n",
    "print(np.max(arr3)) # 100\n",
    "print(np.std(arr3)) # 42.104\n",
    "\n",
    "arr4_reshaped = arr3.reshape(2, 2)\n",
    "print(arr4_reshaped)\n",
    "\n",
    "print(arr3.size)\n"
   ]
  }
 ],
 "metadata": {
  "kernelspec": {
   "display_name": "Python (bootcamp-env)",
   "language": "python",
   "name": "bootcamp-env"
  },
  "language_info": {
   "codemirror_mode": {
    "name": "ipython",
    "version": 3
   },
   "file_extension": ".py",
   "mimetype": "text/x-python",
   "name": "python",
   "nbconvert_exporter": "python",
   "pygments_lexer": "ipython3",
   "version": "3.13.3"
  },
  "orig_nbformat": 4
 },
 "nbformat": 4,
 "nbformat_minor": 2
}
