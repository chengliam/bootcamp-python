{
 "cells": [
  {
   "cell_type": "code",
   "execution_count": 1,
   "metadata": {},
   "outputs": [
    {
     "data": {
      "text/plain": [
       "16"
      ]
     },
     "execution_count": 1,
     "metadata": {},
     "output_type": "execute_result"
    }
   ],
   "source": [
    "3 + 4\n",
    "7 + 9"
   ]
  },
  {
   "cell_type": "code",
   "execution_count": 2,
   "metadata": {},
   "outputs": [
    {
     "name": "stdout",
     "output_type": "stream",
     "text": [
      "7\n",
      "16\n"
     ]
    }
   ],
   "source": [
    "print(3 + 4)\n",
    "print(7 + 9)"
   ]
  },
  {
   "cell_type": "code",
   "execution_count": 3,
   "metadata": {},
   "outputs": [
    {
     "name": "stdout",
     "output_type": "stream",
     "text": [
      "1\n",
      "9\n",
      "9.5\n",
      "True\n"
     ]
    }
   ],
   "source": [
    "# int x = 1;\n",
    "x = 1 # Python doesn't need to specify the type of variable\n",
    "print(x)\n",
    "\n",
    "x = 9\n",
    "print(x)\n",
    "\n",
    "x = 9.5\n",
    "print(x)\n",
    "\n",
    "x = True # Python: True, Java: true\n",
    "print(x)\n"
   ]
  },
  {
   "cell_type": "code",
   "execution_count": 4,
   "metadata": {},
   "outputs": [
    {
     "name": "stdout",
     "output_type": "stream",
     "text": [
      "John\n",
      "John\n",
      "Hello World!!!\n",
      "Hello World !!!\n"
     ]
    }
   ],
   "source": [
    "name = \"John\"\n",
    "print(name)\n",
    "\n",
    "name = 'John'\n",
    "print(name)\n",
    "\n",
    "print(\"Hello World!!!\")\n",
    "\n",
    "print(\"Hello World\", \"!!!\") # added space"
   ]
  },
  {
   "cell_type": "code",
   "execution_count": 5,
   "metadata": {},
   "outputs": [],
   "source": [
    "# Naming Convention\n",
    "# Java: CamelCase style for vairable name: isMale = true\n",
    "# Python: underscore: is_male = True\n",
    "\n",
    "is_student = False\n",
    "\n",
    "# Invalid naming convention\n",
    "# 2name = \"Steven\" # error\n",
    "# last-name = \"Lau\" # error"
   ]
  },
  {
   "cell_type": "code",
   "execution_count": 6,
   "metadata": {},
   "outputs": [
    {
     "name": "stdout",
     "output_type": "stream",
     "text": [
      "24\n",
      "hellohello\n",
      "3.3333333333333335\n"
     ]
    }
   ],
   "source": [
    "# Math\n",
    "# multiply *\n",
    "print(3 * 8)\n",
    "print(\"hello\" * 2)\n",
    "\n",
    "# divide /\n",
    "print(10 / 3)\n",
    "# print(10 / 0) # division by zero"
   ]
  },
  {
   "cell_type": "code",
   "execution_count": 8,
   "metadata": {},
   "outputs": [],
   "source": [
    "# Case sensitive?\n",
    "# Python: Strong type and Dynamic?\n"
   ]
  }
 ],
 "metadata": {
  "kernelspec": {
   "display_name": "Python (bootcamp-env)",
   "language": "python",
   "name": "bootcamp-env"
  },
  "language_info": {
   "codemirror_mode": {
    "name": "ipython",
    "version": 3
   },
   "file_extension": ".py",
   "mimetype": "text/x-python",
   "name": "python",
   "nbconvert_exporter": "python",
   "pygments_lexer": "ipython3",
   "version": "3.13.3"
  },
  "orig_nbformat": 4
 },
 "nbformat": 4,
 "nbformat_minor": 2
}
