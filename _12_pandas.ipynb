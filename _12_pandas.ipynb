{
 "cells": [
  {
   "cell_type": "code",
   "execution_count": 1,
   "metadata": {},
   "outputs": [
    {
     "name": "stdout",
     "output_type": "stream",
     "text": [
      "<class 'pandas.core.series.Series'>\n",
      "    names  ages       city   salary\n",
      "0   Jacky    23  Hong Kong  20000.5\n",
      "1     Bob    10   New York  19500.0\n",
      "2  Steven     5  Hong Kong  15000.0\n"
     ]
    }
   ],
   "source": [
    "import pandas as pd\n",
    "\n",
    "# Series, DataFrame, Dictionary\n",
    "\n",
    "# list to series\n",
    "s = pd.Series([2, 8, -2, 10])\n",
    "print(type(s))\n",
    "\n",
    "dictionary = {\n",
    "  \"names\" : [\"Jacky\", \"Bob\", \"Steven\"],\n",
    "  \"ages\" : [23, 10, 5],\n",
    "  \"city\" : [\"Hong Kong\", \"New York\", \"Hong Kong\"],\n",
    "  \"salary\": [20000.5, 19500, 15000]\n",
    "}\n",
    "\n",
    "# convert dictionary to dataframe\n",
    "df = pd.DataFrame(dictionary)\n",
    "print(df)\n",
    "\n"
   ]
  },
  {
   "cell_type": "code",
   "execution_count": 2,
   "metadata": {},
   "outputs": [
    {
     "name": "stdout",
     "output_type": "stream",
     "text": [
      "     name  age             email   salary\n",
      "1     bob    9     bob@gmail.com  20000.0\n",
      "2  steven   13  steven@gmail.com   8000.0\n",
      "3    alex   40    alex@gmail.com  19500.0\n",
      "4   ricky   19   ricky@gmail.com  11000.0\n",
      "5     leo   23     leo@gmail.com  35000.0\n",
      "     name  age             email   salary\n",
      "0   jacky   27   jacky@gmail.com  19500.5\n",
      "1     bob    9     bob@gmail.com  20000.0\n",
      "2  steven   13  steven@gmail.com   8000.0\n",
      "3    alex   40    alex@gmail.com  19500.0\n",
      "4   ricky   19   ricky@gmail.com  11000.0\n",
      "<class 'pandas.core.frame.DataFrame'>\n",
      "RangeIndex: 6 entries, 0 to 5\n",
      "Data columns (total 4 columns):\n",
      " #   Column  Non-Null Count  Dtype  \n",
      "---  ------  --------------  -----  \n",
      " 0   name    6 non-null      object \n",
      " 1   age     6 non-null      int64  \n",
      " 2   email   6 non-null      object \n",
      " 3   salary  6 non-null      float64\n",
      "dtypes: float64(1), int64(1), object(2)\n",
      "memory usage: 324.0+ bytes\n",
      "None\n",
      "             age        salary\n",
      "count   6.000000      6.000000\n",
      "mean   21.833333  18833.416667\n",
      "std    11.034793   9405.679138\n",
      "min     9.000000   8000.000000\n",
      "25%    14.500000  13125.000000\n",
      "50%    21.000000  19500.250000\n",
      "75%    26.000000  19875.125000\n",
      "max    40.000000  35000.000000\n"
     ]
    }
   ],
   "source": [
    "df = pd.read_csv(\"staffs.csv\")\n",
    "\n",
    "print(df.tail())\n",
    "print(df.head())\n",
    "print(df.info())\n",
    "print(df.describe())"
   ]
  },
  {
   "cell_type": "code",
   "execution_count": null,
   "metadata": {},
   "outputs": [
    {
     "name": "stdout",
     "output_type": "stream",
     "text": [
      "<class 'pandas.core.series.Series'>\n",
      "0     jacky@gmail.com\n",
      "1       bob@gmail.com\n",
      "2    steven@gmail.com\n",
      "3      alex@gmail.com\n",
      "4     ricky@gmail.com\n",
      "5       leo@gmail.com\n",
      "Name: email, dtype: object\n"
     ]
    }
   ],
   "source": [
    "salary_series = df[\"salary\"]\n",
    "print(type(salary_series)) # Series\n",
    "\n",
    "# Dictionary: list, dictionary\n",
    "\n",
    "# Pandas: DataFrame consist of Series\n",
    "\n",
    "print(df[\"email\"])"
   ]
  },
  {
   "cell_type": "code",
   "execution_count": 4,
   "metadata": {},
   "outputs": [
    {
     "name": "stdout",
     "output_type": "stream",
     "text": [
      "0    False\n",
      "1    False\n",
      "2     True\n",
      "3     True\n",
      "4    False\n",
      "5     True\n",
      "Name: name, dtype: bool\n",
      "     name  age             email   salary\n",
      "2  steven   13  steven@gmail.com   8000.0\n",
      "3    alex   40    alex@gmail.com  19500.0\n",
      "5     leo   23     leo@gmail.com  35000.0\n",
      "   name  age           email   salary\n",
      "3  alex   40  alex@gmail.com  19500.0\n"
     ]
    }
   ],
   "source": [
    "print(df[\"name\"].str.contains(\"e\"))\n",
    "\n",
    "print(df.loc[df[\"name\"].str.contains(\"e\")])\n",
    "\n",
    "# Normal Python: if else -> and or\n",
    "\n",
    "# DataFrame -> & |\n",
    "print(df.loc[(df[\"name\"].str.contains(\"e\")) & (df[\"age\"] > 30)])"
   ]
  },
  {
   "cell_type": "code",
   "execution_count": 5,
   "metadata": {},
   "outputs": [
    {
     "name": "stdout",
     "output_type": "stream",
     "text": [
      "     PassengerId  Survived  Pclass                            Name   Sex  \\\n",
      "0              1         0       3         Braund, Mr. Owen Harris  male   \n",
      "4              5         0       3        Allen, Mr. William Henry  male   \n",
      "5              6         0       3                Moran, Mr. James  male   \n",
      "6              7         0       1         McCarthy, Mr. Timothy J  male   \n",
      "7              8         0       3  Palsson, Master. Gosta Leonard  male   \n",
      "..           ...       ...     ...                             ...   ...   \n",
      "883          884         0       2   Banfield, Mr. Frederick James  male   \n",
      "884          885         0       3          Sutehall, Mr. Henry Jr  male   \n",
      "886          887         0       2           Montvila, Rev. Juozas  male   \n",
      "889          890         1       1           Behr, Mr. Karl Howell  male   \n",
      "890          891         0       3             Dooley, Mr. Patrick  male   \n",
      "\n",
      "      Age  SibSp  Parch            Ticket     Fare Cabin Embarked  \n",
      "0    22.0      1      0         A/5 21171   7.2500   NaN        S  \n",
      "4    35.0      0      0            373450   8.0500   NaN        S  \n",
      "5     NaN      0      0            330877   8.4583   NaN        Q  \n",
      "6    54.0      0      0             17463  51.8625   E46        S  \n",
      "7     2.0      3      1            349909  21.0750   NaN        S  \n",
      "..    ...    ...    ...               ...      ...   ...      ...  \n",
      "883  28.0      0      0  C.A./SOTON 34068  10.5000   NaN        S  \n",
      "884  25.0      0      0   SOTON/OQ 392076   7.0500   NaN        S  \n",
      "886  27.0      0      0            211536  13.0000   NaN        S  \n",
      "889  26.0      0      0            111369  30.0000  C148        C  \n",
      "890  32.0      0      0            370376   7.7500   NaN        Q  \n",
      "\n",
      "[577 rows x 12 columns]\n"
     ]
    }
   ],
   "source": [
    "url = \"https://raw.githubusercontent.com/datasciencedojo/datasets/master/titanic.csv\"\n",
    "df = pd.read_csv(url)\n",
    "# print(df.head())\n",
    "\n",
    "# 1. Sex=male\n",
    "print(df.loc[df[\"Sex\"] == \"male\"])\n"
   ]
  },
  {
   "cell_type": "code",
   "execution_count": 6,
   "metadata": {},
   "outputs": [
    {
     "name": "stdout",
     "output_type": "stream",
     "text": [
      "     PassengerId  Survived  Pclass  \\\n",
      "8              9         1       3   \n",
      "172          173         1       3   \n",
      "302          303         0       3   \n",
      "597          598         0       3   \n",
      "719          720         0       3   \n",
      "869          870         1       3   \n",
      "\n",
      "                                                  Name     Sex   Age  SibSp  \\\n",
      "8    Johnson, Mrs. Oscar W (Elisabeth Vilhelmina Berg)  female  27.0      0   \n",
      "172                       Johnson, Miss. Eleanor Ileen  female   1.0      1   \n",
      "302                    Johnson, Mr. William Cahoone Jr    male  19.0      0   \n",
      "597                                Johnson, Mr. Alfred    male  49.0      0   \n",
      "719                       Johnson, Mr. Malkolm Joackim    male  33.0      0   \n",
      "869                    Johnson, Master. Harold Theodor    male   4.0      1   \n",
      "\n",
      "     Parch  Ticket     Fare Cabin Embarked  \n",
      "8        2  347742  11.1333   NaN        S  \n",
      "172      1  347742  11.1333   NaN        S  \n",
      "302      0    LINE   0.0000   NaN        S  \n",
      "597      0    LINE   0.0000   NaN        S  \n",
      "719      0  347062   7.7750   NaN        S  \n",
      "869      1  347742  11.1333   NaN        S  \n"
     ]
    }
   ],
   "source": [
    "# 2. Names contains \"Johnson\"\n",
    "print(df.loc[df[\"Name\"].str.contains(\"Johnson\")])"
   ]
  },
  {
   "cell_type": "code",
   "execution_count": null,
   "metadata": {},
   "outputs": [
    {
     "name": "stdout",
     "output_type": "stream",
     "text": [
      "     PassengerId  Survived  Pclass  \\\n",
      "1              2         1       1   \n",
      "3              4         1       1   \n",
      "11            12         1       1   \n",
      "15            16         1       2   \n",
      "18            19         0       3   \n",
      "..           ...       ...     ...   \n",
      "862          863         1       1   \n",
      "865          866         1       2   \n",
      "871          872         1       1   \n",
      "879          880         1       1   \n",
      "885          886         0       3   \n",
      "\n",
      "                                                  Name     Sex   Age  SibSp  \\\n",
      "1    Cumings, Mrs. John Bradley (Florence Briggs Th...  female  38.0      1   \n",
      "3         Futrelle, Mrs. Jacques Heath (Lily May Peel)  female  35.0      1   \n",
      "11                            Bonnell, Miss. Elizabeth  female  58.0      0   \n",
      "15                    Hewlett, Mrs. (Mary D Kingcome)   female  55.0      0   \n",
      "18   Vander Planke, Mrs. Julius (Emelia Maria Vande...  female  31.0      1   \n",
      "..                                                 ...     ...   ...    ...   \n",
      "862  Swift, Mrs. Frederick Joel (Margaret Welles Ba...  female  48.0      0   \n",
      "865                           Bystrom, Mrs. (Karolina)  female  42.0      0   \n",
      "871   Beckwith, Mrs. Richard Leonard (Sallie Monypeny)  female  47.0      1   \n",
      "879      Potter, Mrs. Thomas Jr (Lily Alexenia Wilson)  female  56.0      0   \n",
      "885               Rice, Mrs. William (Margaret Norton)  female  39.0      0   \n",
      "\n",
      "     Parch    Ticket     Fare Cabin Embarked  \n",
      "1        0  PC 17599  71.2833   C85        C  \n",
      "3        0    113803  53.1000  C123        S  \n",
      "11       0    113783  26.5500  C103        S  \n",
      "15       0    248706  16.0000   NaN        S  \n",
      "18       0    345763  18.0000   NaN        S  \n",
      "..     ...       ...      ...   ...      ...  \n",
      "862      0     17466  25.9292   D17        S  \n",
      "865      0    236852  13.0000   NaN        S  \n",
      "871      1     11751  52.5542   D35        S  \n",
      "879      1     11767  83.1583   C50        C  \n",
      "885      5    382652  29.1250   NaN        Q  \n",
      "\n",
      "[103 rows x 12 columns]\n"
     ]
    }
   ],
   "source": [
    "# 3. Age > 30 and Sex = Female\n",
    "print(df.loc[(df[\"Age\"] > 30) & (df[\"Sex\"] == \"female\")])"
   ]
  },
  {
   "cell_type": "code",
   "execution_count": 8,
   "metadata": {},
   "outputs": [
    {
     "name": "stdout",
     "output_type": "stream",
     "text": [
      "   id              name   username                      email  \\\n",
      "0   1     Leanne Graham       Bret          Sincere@april.biz   \n",
      "1   2      Ervin Howell  Antonette          Shanna@melissa.tv   \n",
      "2   3  Clementine Bauch   Samantha         Nathan@yesenia.net   \n",
      "3   4  Patricia Lebsack   Karianne  Julianne.OConner@kory.org   \n",
      "4   5  Chelsey Dietrich     Kamren   Lucio_Hettinger@annie.ca   \n",
      "\n",
      "                                             address                  phone  \\\n",
      "0  {'street': 'Kulas Light', 'suite': 'Apt. 556',...  1-770-736-8031 x56442   \n",
      "1  {'street': 'Victor Plains', 'suite': 'Suite 87...    010-692-6593 x09125   \n",
      "2  {'street': 'Douglas Extension', 'suite': 'Suit...         1-463-123-4447   \n",
      "3  {'street': 'Hoeger Mall', 'suite': 'Apt. 692',...      493-170-9623 x156   \n",
      "4  {'street': 'Skiles Walks', 'suite': 'Suite 351...          (254)954-1289   \n",
      "\n",
      "         website                                            company  \n",
      "0  hildegard.org  {'name': 'Romaguera-Crona', 'catchPhrase': 'Mu...  \n",
      "1  anastasia.net  {'name': 'Deckow-Crist', 'catchPhrase': 'Proac...  \n",
      "2    ramiro.info  {'name': 'Romaguera-Jacobson', 'catchPhrase': ...  \n",
      "3       kale.biz  {'name': 'Robel-Corkery', 'catchPhrase': 'Mult...  \n",
      "4   demarco.info  {'name': 'Keebler LLC', 'catchPhrase': 'User-c...  \n"
     ]
    }
   ],
   "source": [
    "url = \"https://jsonplaceholder.typicode.com/users\"\n",
    "df = pd.read_json(url) # for single json structure\n",
    "print(df.head())"
   ]
  },
  {
   "cell_type": "code",
   "execution_count": 9,
   "metadata": {},
   "outputs": [
    {
     "name": "stdout",
     "output_type": "stream",
     "text": [
      "<class 'requests.models.Response'>\n",
      "<class 'list'>\n",
      "<class 'pandas.core.frame.DataFrame'>\n",
      "   id          name   username              email                phone  \\\n",
      "1   2  Ervin Howell  Antonette  Shanna@melissa.tv  010-692-6593 x09125   \n",
      "\n",
      "         website address.street address.suite address.city address.zipcode  \\\n",
      "1  anastasia.net  Victor Plains     Suite 879  Wisokyburgh      90566-7771   \n",
      "\n",
      "  address.geo.lat address.geo.lng  company.name  \\\n",
      "1        -43.9509        -34.4618  Deckow-Crist   \n",
      "\n",
      "              company.catchPhrase                        company.bs  \n",
      "1  Proactive didactic contingency  synergize scalable supply-chains  \n"
     ]
    }
   ],
   "source": [
    "import requests\n",
    "from pandas import json_normalize\n",
    "\n",
    "url = \"https://jsonplaceholder.typicode.com/users\"\n",
    "response = requests.get(url)\n",
    "\n",
    "print(type(response))\n",
    "\n",
    "data = response.json()\n",
    "print(type(data)) # list / dictionary\n",
    "\n",
    "df = json_normalize(data)\n",
    "print(type(df))\n",
    "\n",
    "print(df.loc[df[\"address.street\"] == \"Victor Plains\"])"
   ]
  },
  {
   "cell_type": "code",
   "execution_count": 10,
   "metadata": {},
   "outputs": [
    {
     "name": "stdout",
     "output_type": "stream",
     "text": [
      "   id                      name       username                 email  \\\n",
      "1   2              Ervin Howell      Antonette     Shanna@melissa.tv   \n",
      "2   3          Clementine Bauch       Samantha    Nathan@yesenia.net   \n",
      "7   8  Nicholas Runolfsdottir V  Maxime_Nienow  Sherwood@rosamond.me   \n",
      "\n",
      "                 phone        website     address.street address.suite  \\\n",
      "1  010-692-6593 x09125  anastasia.net      Victor Plains     Suite 879   \n",
      "2       1-463-123-4447    ramiro.info  Douglas Extension     Suite 847   \n",
      "7    586.493.6943 x140   jacynthe.com   Ellsworth Summit     Suite 729   \n",
      "\n",
      "    address.city address.zipcode address.geo.lat address.geo.lng  \\\n",
      "1    Wisokyburgh      90566-7771        -43.9509        -34.4618   \n",
      "2  McKenziehaven      59590-4157        -68.6102        -47.0653   \n",
      "7      Aliyaview           45169        -14.3990       -120.7677   \n",
      "\n",
      "         company.name                company.catchPhrase  \\\n",
      "1        Deckow-Crist     Proactive didactic contingency   \n",
      "2  Romaguera-Jacobson  Face to face bifurcated interface   \n",
      "7     Abernathy Group      Implemented secondary concept   \n",
      "\n",
      "                         company.bs  \n",
      "1  synergize scalable supply-chains  \n",
      "2   e-enable strategic applications  \n",
      "7     e-enable extensible e-tailers  \n"
     ]
    }
   ],
   "source": [
    "# address geo lat < 0 and lng < 0\n",
    "df2 = df.loc[(df[\"address.geo.lat\"].astype(float) < 0) & (df[\"address.geo.lng\"].astype(float) < 0)]\n",
    "print(df2)"
   ]
  },
  {
   "cell_type": "code",
   "execution_count": 11,
   "metadata": {},
   "outputs": [
    {
     "name": "stdout",
     "output_type": "stream",
     "text": [
      "   id                      name          username                      email  \\\n",
      "3   4          Patricia Lebsack          Karianne  Julianne.OConner@kory.org   \n",
      "7   8  Nicholas Runolfsdottir V     Maxime_Nienow       Sherwood@rosamond.me   \n",
      "5   6      Mrs. Dennis Schulist  Leopoldo_Corkery    Karley_Dach@jasper.info   \n",
      "0   1             Leanne Graham              Bret          Sincere@april.biz   \n",
      "6   7           Kurtis Weissnat      Elwyn.Skiles     Telly.Hoeger@billy.biz   \n",
      "8   9           Glenna Reichert          Delphine    Chaim_McDermott@dana.io   \n",
      "1   2              Ervin Howell         Antonette          Shanna@melissa.tv   \n",
      "2   3          Clementine Bauch          Samantha         Nathan@yesenia.net   \n",
      "9  10        Clementina DuBuque    Moriah.Stanton     Rey.Padberg@karina.biz   \n",
      "4   5          Chelsey Dietrich            Kamren   Lucio_Hettinger@annie.ca   \n",
      "\n",
      "                   phone        website     address.street address.suite  \\\n",
      "3      493-170-9623 x156       kale.biz        Hoeger Mall      Apt. 692   \n",
      "7      586.493.6943 x140   jacynthe.com   Ellsworth Summit     Suite 729   \n",
      "5   1-477-935-8478 x6430        ola.org  Norberto Crossing      Apt. 950   \n",
      "0  1-770-736-8031 x56442  hildegard.org        Kulas Light      Apt. 556   \n",
      "6           210.067.6132       elvis.io          Rex Trail     Suite 280   \n",
      "8   (775)976-6794 x41206     conrad.com         Dayna Park     Suite 449   \n",
      "1    010-692-6593 x09125  anastasia.net      Victor Plains     Suite 879   \n",
      "2         1-463-123-4447    ramiro.info  Douglas Extension     Suite 847   \n",
      "9           024-648-3804    ambrose.net    Kattie Turnpike     Suite 198   \n",
      "4          (254)954-1289   demarco.info       Skiles Walks     Suite 351   \n",
      "\n",
      "     address.city address.zipcode address.geo.lat address.geo.lng  \\\n",
      "3     South Elvis      53919-4257         29.4572       -164.2990   \n",
      "7       Aliyaview           45169        -14.3990       -120.7677   \n",
      "5   South Christy      23505-1337        -71.4197         71.7478   \n",
      "0     Gwenborough      92998-3874        -37.3159         81.1496   \n",
      "6       Howemouth      58804-1099         24.8918         21.8984   \n",
      "8  Bartholomebury      76495-3109         24.6463       -168.8889   \n",
      "1     Wisokyburgh      90566-7771        -43.9509        -34.4618   \n",
      "2   McKenziehaven      59590-4157        -68.6102        -47.0653   \n",
      "9     Lebsackbury      31428-2261        -38.2386         57.2232   \n",
      "4      Roscoeview           33263        -31.8129         62.5342   \n",
      "\n",
      "         company.name                       company.catchPhrase  \\\n",
      "3       Robel-Corkery  Multi-tiered zero tolerance productivity   \n",
      "7     Abernathy Group             Implemented secondary concept   \n",
      "5   Considine-Lockman        Synchronised bottom-line interface   \n",
      "0     Romaguera-Crona    Multi-layered client-server neural-net   \n",
      "6         Johns Group        Configurable multimedia task-force   \n",
      "8       Yost and Sons     Switchable contextually-based project   \n",
      "1        Deckow-Crist            Proactive didactic contingency   \n",
      "2  Romaguera-Jacobson         Face to face bifurcated interface   \n",
      "9          Hoeger LLC         Centralized empowering task-force   \n",
      "4         Keebler LLC      User-centric fault-tolerant solution   \n",
      "\n",
      "                             company.bs  \n",
      "3  transition cutting-edge web services  \n",
      "7         e-enable extensible e-tailers  \n",
      "5      e-enable innovative applications  \n",
      "0           harness real-time e-markets  \n",
      "6         generate enterprise e-tailers  \n",
      "8      aggregate real-time technologies  \n",
      "1      synergize scalable supply-chains  \n",
      "2       e-enable strategic applications  \n",
      "9              target end-to-end models  \n",
      "4      revolutionize end-to-end systems  \n"
     ]
    }
   ],
   "source": [
    "# Sorting\n",
    "sorted_df = df.sort_values(by=\"name\", ascending=False)\n",
    "print(sorted_df)"
   ]
  },
  {
   "cell_type": "code",
   "execution_count": 12,
   "metadata": {},
   "outputs": [
    {
     "name": "stdout",
     "output_type": "stream",
     "text": [
      "29.69911764705882\n",
      "80.0\n",
      "0.42\n",
      "<class 'pandas.core.series.Series'>\n",
      "Survived\n",
      "0    30.626179\n",
      "1    28.343690\n",
      "Name: Age, dtype: float64\n"
     ]
    }
   ],
   "source": [
    "# group by + agg function\n",
    "url = \"https://raw.githubusercontent.com/datasciencedojo/datasets/master/titanic.csv\"\n",
    "df = pd.read_csv(url)\n",
    "\n",
    "print(df[\"Age\"].mean())\n",
    "print(df[\"Age\"].max())\n",
    "print(df[\"Age\"].min())\n",
    "\n",
    "age_series = df.groupby(\"Survived\")[\"Age\"].mean()\n",
    "\n",
    "print(type(age_series))\n",
    "print(age_series)"
   ]
  },
  {
   "cell_type": "code",
   "execution_count": 13,
   "metadata": {},
   "outputs": [
    {
     "name": "stdout",
     "output_type": "stream",
     "text": [
      "True\n",
      "False\n",
      "Index(['Age', 'Cabin', 'Embarked'], dtype='object')\n"
     ]
    }
   ],
   "source": [
    "# Check any missing value for a column\n",
    "print(df[\"Age\"].isnull().any())\n",
    "print(df[\"Name\"].isnull().any())\n",
    "\n",
    "# Check which columns with missing value\n",
    "print(df.columns[df.isnull().any()])"
   ]
  },
  {
   "cell_type": "code",
   "execution_count": null,
   "metadata": {},
   "outputs": [
    {
     "name": "stdout",
     "output_type": "stream",
     "text": [
      "False\n",
      "891\n",
      "714\n"
     ]
    }
   ],
   "source": [
    "# Transform (drop)\n",
    "# ETL (extract + transform + load)\n",
    "df_after_drop = df.dropna(subset=[\"Age\"])\n",
    "\n",
    "print(df_after_drop[\"Age\"].isnull().any()) # False\n",
    "\n",
    "print(len(df))\n",
    "print(len(df_after_drop))"
   ]
  },
  {
   "cell_type": "code",
   "execution_count": null,
   "metadata": {},
   "outputs": [
    {
     "name": "stdout",
     "output_type": "stream",
     "text": [
      "True\n",
      "False\n"
     ]
    }
   ],
   "source": [
    "# Transform (Refill)\n",
    "df_for_refill = df.copy()\n",
    "\n",
    "# Test before refill\n",
    "print(df_for_refill[\"Age\"].isnull().any()) # True\n",
    "\n",
    "# Refill N/A for Age\n",
    "df_for_refill[\"Age\"] = df_for_refill[\"Age\"].fillna(\"N/A\")\n",
    "\n",
    "# Test after refill\n",
    "print(df_for_refill[\"Age\"].isnull().any()) # False"
   ]
  },
  {
   "cell_type": "code",
   "execution_count": null,
   "metadata": {},
   "outputs": [],
   "source": [
    "# DF to csv\n",
    "df_for_refill.to_csv(\"after_refill_age.csv\", index=False)"
   ]
  },
  {
   "cell_type": "code",
   "execution_count": null,
   "metadata": {},
   "outputs": [],
   "source": [
    "# Add Column\n",
    "# Age >= 18 (Adult), < 18 Child\n",
    "\n",
    "# similar to map\n",
    "df_for_refill[\"Age_Cat\"] = df[\"Age\"].apply(lambda age: \"Adult\" if age >= 18 else \"Child\")\n",
    "\n",
    "df_for_refill.to_csv(\"after_add_age_cat.csv\", index=False)\n"
   ]
  }
 ],
 "metadata": {
  "kernelspec": {
   "display_name": "Python (bootcamp-env)",
   "language": "python",
   "name": "bootcamp-env"
  },
  "language_info": {
   "codemirror_mode": {
    "name": "ipython",
    "version": 3
   },
   "file_extension": ".py",
   "mimetype": "text/x-python",
   "name": "python",
   "nbconvert_exporter": "python",
   "pygments_lexer": "ipython3",
   "version": "3.13.5"
  },
  "orig_nbformat": 4
 },
 "nbformat": 4,
 "nbformat_minor": 2
}
