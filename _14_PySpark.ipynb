{
 "cells": [
  {
   "cell_type": "code",
   "execution_count": 11,
   "metadata": {},
   "outputs": [
    {
     "ename": "ModuleNotFoundError",
     "evalue": "No module named 'pyspark'",
     "output_type": "error",
     "traceback": [
      "\u001b[31m---------------------------------------------------------------------------\u001b[39m",
      "\u001b[31mModuleNotFoundError\u001b[39m                       Traceback (most recent call last)",
      "\u001b[36mCell\u001b[39m\u001b[36m \u001b[39m\u001b[32mIn[11]\u001b[39m\u001b[32m, line 1\u001b[39m\n\u001b[32m----> \u001b[39m\u001b[32m1\u001b[39m \u001b[38;5;28;01mfrom\u001b[39;00m\u001b[38;5;250m \u001b[39m\u001b[34;01mpyspark\u001b[39;00m\u001b[34;01m.\u001b[39;00m\u001b[34;01msql\u001b[39;00m\u001b[38;5;250m \u001b[39m\u001b[38;5;28;01mimport\u001b[39;00m SparkSession\n\u001b[32m      3\u001b[39m spark_session = SparkSession.builder \\\n\u001b[32m      4\u001b[39m   .appName(\u001b[33m\"\u001b[39m\u001b[33mPySpark JDBC Example\u001b[39m\u001b[33m\"\u001b[39m) \\\n\u001b[32m      5\u001b[39m   .config(\u001b[33m\"\u001b[39m\u001b[33mspark.jars\u001b[39m\u001b[33m\"\u001b[39m, \u001b[33m\"\u001b[39m\u001b[33mUsers/ios/bc2504p/bootcamp-python/postgresql-42.7.7.jar\u001b[39m\u001b[33m\"\u001b[39m) \\\n\u001b[32m      6\u001b[39m   .getOrCreate()\n\u001b[32m      8\u001b[39m jdbc_url=\u001b[33m\"\u001b[39m\u001b[33mjdbc:postgresql://localhost:5432/bootcamp_2504p\u001b[39m\u001b[33m\"\u001b[39m\n",
      "\u001b[31mModuleNotFoundError\u001b[39m: No module named 'pyspark'"
     ]
    }
   ],
   "source": [
    "from pyspark.sql import SparkSession\n",
    "\n",
    "spark_session = SparkSession.builder \\\n",
    "  .appName(\"PySpark JDBC Example\") \\\n",
    "  .config(\"spark.jars\", \"Users/ios/bc2504p/bootcamp-python/postgresql-42.7.7.jar\") \\\n",
    "  .getOrCreate()\n",
    "\n",
    "jdbc_url=\"jdbc:postgresql://localhost:5432/bootcamp_2504p\"\n",
    "\n",
    "connection_properties = {\n",
    "  \"user\" : \"postgres\",\n",
    "  \"password\" : \"admin1234\",\n",
    "  \"driver\" : \"org.postgresql.Driver\"\n",
    "}\n",
    "\n",
    "# select * from persons\n",
    "df_all_persons = spark_session.read.jdbc(url=jdbc_url, table=\"persons\", properties=connection_properties)\n",
    "print(df_all_persons.show())\n",
    "\n",
    "# select * from persons where age > 19\n",
    "query_sql_result = \"(select * from persons where age > 19) as result\"\n",
    "df_age_above_19_persons = spark_session.read.jdbc(url=jdbc_url, table=query_sql_result, properties=connection_properties)\n",
    "\n",
    "print(df_age_above_19_persons.show())\n",
    "\n"
   ]
  },
  {
   "cell_type": "code",
   "execution_count": null,
   "metadata": {},
   "outputs": [
    {
     "name": "stdout",
     "output_type": "stream",
     "text": [
      "https://query1.finance.yahoo.com/v8/finance/chart/MSFT?period1=1657237004&period2=1751931404&interval=1d&events=history\n"
     ]
    }
   ],
   "source": [
    "symbol=\"MSFT\"\n",
    "start_period=\"1657237004\"\n",
    "end_period=\"1751931404\"\n",
    "url=\"https://query1.finance.yahoo.com/v8/finance/chart/\" + symbol + \"?period1=\" + start_period + \"&period2=\" + end_period + \"&interval=1d&events=history\"\n",
    "print(url)\n",
    "\n",
    "headers = {\n",
    "  \"User-Agent\" : \"Mozilla/5.0\"\n",
    "}\n",
    "response = requests.get(url, headers=headers)\n",
    "data = response.json()\n",
    "\n",
    "#data -> <dict>\n",
    "result = data[\"chart\"][\"result\"][0]\n",
    "\n",
    "timestamp = result[\"timestamp\"]\n",
    "quote = result[\"indicators\"][\"quote\"][0]\n",
    "lows = quote[\"low\"]\n",
    "highs = quote[\"high\"]\n",
    "opens = quote[\"open\"]\n",
    "closes = quote[\"closes\"]\n",
    "volumes = quote[\"volume\"]\n",
    "\n",
    "# validation\n",
    "# 1. count\n",
    "isCountValid = len(timestamp) == len(quotes) and len(quotes) == len(highs) and len(highs) == len(opens) and len(opens) == len(closes) and len(closes) == len(volumes)\n",
    "\n",
    "if not isCountValid:\n",
    "  print(\"Count invalid.\")\n",
    "  exit"
   ]
  }
 ],
 "metadata": {
  "kernelspec": {
   "display_name": "Python (bootcamp-env)",
   "language": "python",
   "name": "bootcamp-env"
  },
  "orig_nbformat": 4
 },
 "nbformat": 4,
 "nbformat_minor": 2
}
