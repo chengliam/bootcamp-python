{
 "cells": [
  {
   "cell_type": "code",
   "execution_count": 1,
   "metadata": {},
   "outputs": [
    {
     "name": "stdout",
     "output_type": "stream",
     "text": [
      "Vincent\n",
      "{\n",
      "  \"name\": \"Vincent\",\n",
      "  \"age\": 23\n",
      "}\n"
     ]
    }
   ],
   "source": [
    "import json\n",
    "\n",
    "# from json String to dictionary\n",
    "json_str = '{\"name\" : \"Vincent\", \"age\" : 23}'\n",
    "output_dict = json.loads(json_str)\n",
    "print(output_dict[\"name\"])\n",
    "\n",
    "# from dictionary to json String\n",
    "json_string_output = json.dumps(output_dict, indent=2)\n",
    "print(json_string_output)"
   ]
  },
  {
   "cell_type": "code",
   "execution_count": 2,
   "metadata": {},
   "outputs": [
    {
     "name": "stdout",
     "output_type": "stream",
     "text": [
      "{'username': 'jacky_chan', 'email': 'jackychan@gmail.com', 'admin': False}\n"
     ]
    }
   ],
   "source": [
    "# Read JSON file to String\n",
    "with open(\"user_jacky.json\", \"r\") as file:\n",
    "  json_user = json.load(file)\n",
    "\n",
    "print(json_user)"
   ]
  },
  {
   "cell_type": "code",
   "execution_count": 3,
   "metadata": {},
   "outputs": [],
   "source": [
    "# Write Dictionary to JSON file\n",
    "user_vincent = {\n",
    "  \"name\" : \"Vincent\",\n",
    "  \"age\" : 23,\n",
    "  \"email\" : \"vincentwong@gmail.com\"\n",
    "}\n",
    "\n",
    "with open(\"user_vincent.json\", \"w\") as file:\n",
    "  json.dump(user_vincent, file, indent=2)"
   ]
  },
  {
   "cell_type": "code",
   "execution_count": 4,
   "metadata": {},
   "outputs": [],
   "source": [
    "# read users.json, find all admin (lambda),\n",
    "# and then write into another json file (user_admin.json)\n",
    "\n",
    "with open(\"users.json\", \"r\") as file:\n",
    "  json_all_users = json.load(file)\n",
    "\n",
    "admin_users = list(filter(lambda x: x[\"admin\"] == True, json_all_users))\n",
    "\n",
    "with open(\"admin_users.json\", \"w\") as file:\n",
    "  json.dump(admin_users, file, indent=2)"
   ]
  },
  {
   "cell_type": "code",
   "execution_count": 5,
   "metadata": {},
   "outputs": [],
   "source": [
    "# filter those user living in New York\n",
    "# map their name into a list\n",
    "\n",
    "with open(\"persons.json\", \"r\") as file:\n",
    "  json_all_persons = json.load(file)\n",
    "\n",
    "new_york_persons = list(filter(lambda x: x[\"address\"][\"city\"] == \"New York\", json_all_persons))\n",
    "new_york_person_names = list(map(lambda x: x[\"name\"], new_york_persons))\n",
    "\n",
    "with open(\"new_york_person_names.json\", \"w\") as file:\n",
    "  json.dump(new_york_person_names, file, indent=2)"
   ]
  }
 ],
 "metadata": {
  "kernelspec": {
   "display_name": "Python (bootcamp-env)",
   "language": "python",
   "name": "bootcamp-env"
  },
  "language_info": {
   "codemirror_mode": {
    "name": "ipython",
    "version": 3
   },
   "file_extension": ".py",
   "mimetype": "text/x-python",
   "name": "python",
   "nbconvert_exporter": "python",
   "pygments_lexer": "ipython3",
   "version": "3.13.3"
  },
  "orig_nbformat": 4
 },
 "nbformat": 4,
 "nbformat_minor": 2
}
