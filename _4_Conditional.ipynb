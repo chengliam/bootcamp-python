{
 "cells": [
  {
   "cell_type": "code",
   "execution_count": 4,
   "metadata": {},
   "outputs": [
    {
     "name": "stdout",
     "output_type": "stream",
     "text": [
      "hello world\n",
      "Grade=B\n"
     ]
    }
   ],
   "source": [
    "# ==, !=, >, <, >=, <=\n",
    "\n",
    "# and or\n",
    "x = 10\n",
    "if (x >= 7):\n",
    "  print(\"hello world\")\n",
    "else:\n",
    "  print(\"goodbye\")\n",
    "\n",
    "score = 85\n",
    "if (score >= 90):\n",
    "  grade = \"A\"\n",
    "elif (score >= 80):\n",
    "  grade = \"B\"\n",
    "else:\n",
    "  grade = \"F\"\n",
    "\n",
    "print(f\"Grade={grade}\")\n"
   ]
  },
  {
   "cell_type": "code",
   "execution_count": 9,
   "metadata": {},
   "outputs": [
    {
     "name": "stdout",
     "output_type": "stream",
     "text": [
      "Age=48, Fee=10\n",
      "Age=48, Fee=10\n",
      "Age=48, Fee=10\n"
     ]
    }
   ],
   "source": [
    "# age < 5 or age > 65, fee = 2, otherwise fee = 10\n",
    "age = 48\n",
    "\n",
    "if 5 <= age <= 65:\n",
    "  fee = 10\n",
    "else:\n",
    "  fee = 2\n",
    "\n",
    "print(f\"Age={age}, Fee={fee}\")\n",
    "\n",
    "if age < 5 or age > 65:\n",
    "  fee = 2\n",
    "else:\n",
    "  fee = 10\n",
    "\n",
    "print(f\"Age={age}, Fee={fee}\")\n",
    "\n",
    "fee = 10 if 5 <= age <= 65 else 2\n",
    "\n",
    "print(f\"Age={age}, Fee={fee}\")\n"
   ]
  },
  {
   "cell_type": "code",
   "execution_count": 10,
   "metadata": {},
   "outputs": [
    {
     "name": "stdout",
     "output_type": "stream",
     "text": [
      "Female\n"
     ]
    }
   ],
   "source": [
    "is_male = False\n",
    "\n",
    "if not is_male:\n",
    "  print(\"Female\")\n",
    "else:\n",
    "  print(\"Male\")"
   ]
  },
  {
   "cell_type": "code",
   "execution_count": 11,
   "metadata": {},
   "outputs": [
    {
     "name": "stdout",
     "output_type": "stream",
     "text": [
      "Login Success.\n"
     ]
    }
   ],
   "source": [
    "password = \"admin1234\"\n",
    "entered_password = \"admin1234\"\n",
    "\n",
    "if password == entered_password:\n",
    "  print(\"Login Success.\")\n",
    "else:\n",
    "  print(\"Login Fail.\")\n",
    "\n",
    "if password != entered_password:\n",
    "  print(\"Login Fail.\")\n",
    "else:\n",
    "  print(\"Login Success.\")\n"
   ]
  },
  {
   "cell_type": "code",
   "execution_count": 22,
   "metadata": {},
   "outputs": [
    {
     "name": "stdout",
     "output_type": "stream",
     "text": [
      "hello\n",
      "hello\n"
     ]
    }
   ],
   "source": [
    "age = 20\n",
    "is_male = False\n",
    "\n",
    "# and goes first, then or\n",
    "if (is_male == False) or (is_male == True and age >= 18):\n",
    "  print(\"hello\")\n",
    "else:\n",
    "  print(\"goodbye\")\n",
    "\n",
    "if (is_male == False and age >= 20) or (is_male == True and age >= 18):\n",
    "  print(\"hello\")\n",
    "else:\n",
    "  print(\"goodbye\")"
   ]
  },
  {
   "cell_type": "code",
   "execution_count": 24,
   "metadata": {},
   "outputs": [
    {
     "name": "stdout",
     "output_type": "stream",
     "text": [
      "She is Female\n",
      "ODD number.\n"
     ]
    }
   ],
   "source": [
    "# Java: switch\n",
    "# Python: match\n",
    "\n",
    "is_male = False\n",
    "\n",
    "match is_male:\n",
    "  case True:\n",
    "    print(\"He is male.\")\n",
    "  case False:\n",
    "    print(\"She is Female\")\n",
    "  case _:\n",
    "    print(\"Netural\")\n",
    "\n",
    "random_number = 3 \n",
    "# 1 - 5\n",
    "\n",
    "match random_number:\n",
    "  case 1 | 3 | 5:\n",
    "    print(\"ODD number.\")\n",
    "  case 2 | 4:\n",
    "    print(\"EVEN number.\")\n"
   ]
  },
  {
   "cell_type": "code",
   "execution_count": 31,
   "metadata": {},
   "outputs": [
    {
     "name": "stdout",
     "output_type": "stream",
     "text": [
      "it is int type\n"
     ]
    }
   ],
   "source": [
    "name = \"Lucas\"\n",
    "\n",
    "match name:\n",
    "  case str():\n",
    "    print(\"it is str type\")\n",
    "  case int():\n",
    "    print(\"it is int type\")"
   ]
  },
  {
   "cell_type": "code",
   "execution_count": null,
   "metadata": {},
   "outputs": [],
   "source": []
  }
 ],
 "metadata": {
  "kernelspec": {
   "display_name": "Python (bootcamp-env)",
   "language": "python",
   "name": "bootcamp-env"
  },
  "language_info": {
   "codemirror_mode": {
    "name": "ipython",
    "version": 3
   },
   "file_extension": ".py",
   "mimetype": "text/x-python",
   "name": "python",
   "nbconvert_exporter": "python",
   "pygments_lexer": "ipython3",
   "version": "3.13.3"
  },
  "orig_nbformat": 4
 },
 "nbformat": 4,
 "nbformat_minor": 2
}
